{
 "cells": [
  {
   "cell_type": "code",
   "execution_count": 13,
   "metadata": {},
   "outputs": [
    {
     "name": "stdout",
     "output_type": "stream",
     "text": [
      "Enter ID:1\n",
      "Enter Name:John\n",
      "Enter basic salary:25000\n",
      "-----Employee Details-------\n",
      "ID: 1\n",
      "Name: John\n",
      "Basic salary: 25000\n",
      "------Perks-----\n",
      "DA: 8750.0\n",
      "HRA: 4250.0\n",
      "PF: 3000.0\n",
      "Total perks: 10000.0\n",
      "Total salary:- 35000.0\n"
     ]
    }
   ],
   "source": [
    "#WAP to find the net salary of employee using inheritance.Create three class Employee,Perks and netsalary.Make employee\n",
    "# class as abstract class.It has 4 methods.\n",
    "# 1)getEmployee()-it takes input for id,name and basic salary.\n",
    "# 2)Employeedetails()-it prints id,name,basic salary\n",
    "# 3)Getsalary()-return a basic salary\n",
    "# 4) emp_id=abstract method\n",
    "#Perks(Employee) class has three methods\n",
    "#1)CalcPerks-calculate DA,HRA,PF where DA is 35% of basic salary,HRA is 17% of basic salary,PF is 12% of basic salary.\n",
    "#2)printPerks-print DA,HRA,PF\n",
    "#3)totalPerks-DA+HRA-PF\n",
    "#4)emp_id(abstarct methods)\n",
    "#Net salary(Perks) has two methods:\n",
    "#1)getTotal- calculate total salary(show all salary)\n",
    "\n",
    "from abc import ABC,abstractmethod\n",
    "class Employee(ABC):\n",
    "    def getEmployee(self):\n",
    "        self.id=int(input(\"Enter ID:\"))\n",
    "        self.name=input(\"Enter Name:\")\n",
    "        self.bs=int(input(\"Enter basic salary:\"))\n",
    "    def Employeedetails(self):\n",
    "        print(\"ID:\",self.id)\n",
    "        print(\"Name:\",self.name)\n",
    "        print(\"Basic salary:\",self.bs)\n",
    "    def getSalary(self):\n",
    "        return self.bs\n",
    "    @abstractmethod\n",
    "    def emp_id(self):\n",
    "        pass\n",
    "class Perks(Employee):\n",
    "    def CalcPerks(self):\n",
    "        self.DA=self.bs*0.35\n",
    "        self.HRA=self.bs*0.17        \n",
    "        self.PF=self.bs*0.12\n",
    "    def printPerks(self):\n",
    "        print(\"DA:\",self.DA)\n",
    "        print(\"HRA:\",self.HRA)        \n",
    "        print(\"PF:\",self.PF)\n",
    "    def totalPerks(self):\n",
    "        print(\"Total perks:\",self.DA+self.HRA-self.PF)\n",
    "    def emp_id(self):\n",
    "        pass\n",
    "class NetSalary(Perks):\n",
    "    def getTotal(self):\n",
    "        print(\"Total salary:-\",self.bs+self.DA+self.HRA-self.PF)\n",
    "a=NetSalary()\n",
    "a.getEmployee()\n",
    "print(\"-----Employee Details-------\")\n",
    "a.Employeedetails()\n",
    "a.getSalary()\n",
    "print(\"------Perks-----\")\n",
    "a.CalcPerks()\n",
    "a.printPerks()\n",
    "a.totalPerks()\n",
    "a.getTotal()"
   ]
  },
  {
   "cell_type": "code",
   "execution_count": 34,
   "metadata": {},
   "outputs": [
    {
     "name": "stdout",
     "output_type": "stream",
     "text": [
      "HDD   5000\n",
      "Do you want this(Y/N):\n",
      "Enter choice:y\n",
      "ENTER quantity to buy:1\n",
      "RAM   2000\n",
      "Do you want this(Y/N):\n",
      "Enter choice:n\n",
      "PRINTER   6000\n",
      "Do you want this(Y/N):\n",
      "Enter choice:y\n",
      "ENTER quantity to buy:1\n",
      "PENDRIVE   800\n",
      "Do you want this(Y/N):\n",
      "Enter choice:n\n",
      "Bill: 11000\n",
      "Enter payment method Cash or Cheque:cheque\n",
      "Enter cheque no:154415467456\n",
      "Enter Bank Name:icici bank\n",
      "Cheque no: 154415467456\n",
      "Bank name: icici bank\n"
     ]
    },
    {
     "data": {
      "text/plain": [
       "<__main__.Bill at 0x17790d88b80>"
      ]
     },
     "execution_count": 34,
     "metadata": {},
     "output_type": "execute_result"
    }
   ],
   "source": [
    "class Bill:\n",
    "    rates={\"HDD\":5000,\"RAM\":2000,\"PRINTER\":6000,\"PENDRIVE\":800}\n",
    "    tamt=0\n",
    "    def __init__(self):\n",
    "        for a,b in self.rates.items():\n",
    "            print(a,\" \",b)\n",
    "            print(\"Do you want this(Y/N):\")\n",
    "            ans=input(\"Enter choice:\").lower()\n",
    "            if(ans==\"n\"):\n",
    "                continue\n",
    "            else:\n",
    "                qty=int(input(\"ENTER quantity to buy:\"))\n",
    "                self.tamt+=qty*b\n",
    "        print(\"Bill:\",self.tamt)\n",
    "        payment=input(\"Enter payment method Cash or Cheque:\").lower()\n",
    "        if (payment==\"cash\"):\n",
    "            CashPayment(self.tamt)\n",
    "        else:\n",
    "            ChequePayment()\n",
    "class CashPayment(Bill):\n",
    "    def __init__(self,x):\n",
    "        print(\"2000 NOTES:\",x//2000)\n",
    "        x%=2000\n",
    "        print(\"500 NOTES:\",x//500)\n",
    "        x%=500\n",
    "        print(\"200 NOTES:\",x//200)\n",
    "        x%=200\n",
    "        print(\"100 NOTES:\",x//100)\n",
    "        x%=100\n",
    "        print(\"50 NOTES:\",x//50)\n",
    "        x%=50\n",
    "        print(\"20 NOTES:\",x//20)\n",
    "        x%=10\n",
    "        print(\"10 NOTES:\",x//10)\n",
    "class ChequePayment(Bill):\n",
    "    def __init__(self):\n",
    "        cno=input(\"Enter cheque no:\")\n",
    "        bn=input(\"Enter Bank Name:\")\n",
    "        print(\"Cheque no:\",cno)\n",
    "        print(\"Bank name:\",bn)      \n",
    "Bill()"
   ]
  },
  {
   "cell_type": "code",
   "execution_count": null,
   "metadata": {},
   "outputs": [],
   "source": []
  }
 ],
 "metadata": {
  "kernelspec": {
   "display_name": "Python 3",
   "language": "python",
   "name": "python3"
  },
  "language_info": {
   "codemirror_mode": {
    "name": "ipython",
    "version": 3
   },
   "file_extension": ".py",
   "mimetype": "text/x-python",
   "name": "python",
   "nbconvert_exporter": "python",
   "pygments_lexer": "ipython3",
   "version": "3.8.5"
  }
 },
 "nbformat": 4,
 "nbformat_minor": 4
}
