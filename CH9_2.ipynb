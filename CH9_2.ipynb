{
 "cells": [
  {
   "cell_type": "code",
   "execution_count": 3,
   "metadata": {},
   "outputs": [
    {
     "name": "stdout",
     "output_type": "stream",
     "text": [
      "True\n",
      "False\n",
      "True\n",
      "True\n",
      "False\n",
      "True\n"
     ]
    }
   ],
   "source": [
    "class parent:\n",
    "    def func1():\n",
    "        print(\"Hello parent\")\n",
    "class child(parent):\n",
    "    def func2():\n",
    "        print(\"Hello child\")\n",
    "print(issubclass(child,parent))\n",
    "print(issubclass(parent,child))\n",
    "\n",
    "A=child()\n",
    "B=parent()\n",
    "print(isinstance(A,child))\n",
    "print(isinstance(A,parent))\n",
    "print(isinstance(B,child))\n",
    "print(isinstance(B,parent))"
   ]
  },
  {
   "cell_type": "markdown",
   "metadata": {},
   "source": [
    "# MRO(Method Resolution Order)"
   ]
  },
  {
   "cell_type": "code",
   "execution_count": 4,
   "metadata": {},
   "outputs": [
    {
     "name": "stdout",
     "output_type": "stream",
     "text": [
      "In class B\n",
      "[<class '__main__.D'>, <class '__main__.B'>, <class '__main__.C'>, <class '__main__.A'>, <class 'object'>]\n"
     ]
    }
   ],
   "source": [
    "class A:\n",
    "    def rk(self):\n",
    "        print(\"class A\")\n",
    "class B(A):\n",
    "    def rk(self):\n",
    "        print(\"In class B\")\n",
    "class C(A):\n",
    "    def rk(self):\n",
    "        print(\"In class C\")\n",
    "class D(B,C):\n",
    "    pass\n",
    "r=D()\n",
    "r.rk()\n",
    "print(D.mro())"
   ]
  },
  {
   "cell_type": "code",
   "execution_count": 9,
   "metadata": {},
   "outputs": [
    {
     "ename": "TypeError",
     "evalue": "Cannot create a consistent method resolution\norder (MRO) for bases P1, P2",
     "output_type": "error",
     "traceback": [
      "\u001b[1;31m---------------------------------------------------------------------------\u001b[0m",
      "\u001b[1;31mTypeError\u001b[0m                                 Traceback (most recent call last)",
      "\u001b[1;32m<ipython-input-9-665a00dc7828>\u001b[0m in \u001b[0;36m<module>\u001b[1;34m\u001b[0m\n\u001b[0;32m     12\u001b[0m     \u001b[1;32mdef\u001b[0m \u001b[0mbar\u001b[0m\u001b[1;33m(\u001b[0m\u001b[0mself\u001b[0m\u001b[1;33m)\u001b[0m\u001b[1;33m:\u001b[0m\u001b[1;33m\u001b[0m\u001b[1;33m\u001b[0m\u001b[0m\n\u001b[0;32m     13\u001b[0m         \u001b[0mprint\u001b[0m\u001b[1;33m(\u001b[0m\u001b[1;34m\"bar from c2\"\u001b[0m\u001b[1;33m)\u001b[0m\u001b[1;33m\u001b[0m\u001b[1;33m\u001b[0m\u001b[0m\n\u001b[1;32m---> 14\u001b[1;33m \u001b[1;32mclass\u001b[0m \u001b[0mGC\u001b[0m\u001b[1;33m(\u001b[0m\u001b[0mC1\u001b[0m\u001b[1;33m,\u001b[0m\u001b[0mC2\u001b[0m\u001b[1;33m)\u001b[0m\u001b[1;33m:\u001b[0m\u001b[1;33m\u001b[0m\u001b[1;33m\u001b[0m\u001b[0m\n\u001b[0m\u001b[0;32m     15\u001b[0m     \u001b[1;32mpass\u001b[0m\u001b[1;33m\u001b[0m\u001b[1;33m\u001b[0m\u001b[0m\n\u001b[0;32m     16\u001b[0m \u001b[0mg\u001b[0m\u001b[1;33m=\u001b[0m\u001b[0mGC\u001b[0m\u001b[1;33m(\u001b[0m\u001b[1;33m)\u001b[0m\u001b[1;33m\u001b[0m\u001b[1;33m\u001b[0m\u001b[0m\n",
      "\u001b[1;31mTypeError\u001b[0m: Cannot create a consistent method resolution\norder (MRO) for bases P1, P2"
     ]
    }
   ],
   "source": [
    "class P1:\n",
    "    def foo(self):\n",
    "        print(\"foo from P1\")\n",
    "class P2:\n",
    "    def foo(self):\n",
    "        print(\"foo from P2\")\n",
    "    def bar(self):\n",
    "        print(\"bar from P2\")\n",
    "class C1(P1,P2):\n",
    "    pass\n",
    "class C2(P2,P1):\n",
    "    def bar(self):\n",
    "        print(\"bar from c2\")\n",
    "class GC(C1,C2):\n",
    "    pass\n",
    "g=GC()\n",
    "g.foo()\n",
    "g.bar()\n",
    "print(GC.mro())"
   ]
  },
  {
   "cell_type": "code",
   "execution_count": 13,
   "metadata": {},
   "outputs": [
    {
     "name": "stdout",
     "output_type": "stream",
     "text": [
      "[<class '__main__.Z'>, <class '__main__.K1'>, <class '__main__.C'>, <class '__main__.K3'>, <class '__main__.A'>, <class '__main__.K2'>, <class '__main__.B'>, <class '__main__.D'>, <class '__main__.E'>, <class 'object'>]\n"
     ]
    }
   ],
   "source": [
    "class A:pass \n",
    "class B:pass\n",
    "class C:pass\n",
    "class D:pass\n",
    "class E:pass\n",
    "class K1(C,A,B):pass\n",
    "class K3(A,D):pass\n",
    "class K2(B,D,E):pass\n",
    "class Z(K1,K3,K2):pass\n",
    "print(Z.mro())"
   ]
  },
  {
   "cell_type": "code",
   "execution_count": 23,
   "metadata": {},
   "outputs": [
    {
     "name": "stdout",
     "output_type": "stream",
     "text": [
      "drawing a circle\n"
     ]
    }
   ],
   "source": [
    "#Abstract class\n",
    "from abc import ABC,abstractmethod\n",
    "class shape(ABC):\n",
    "    def __init__(self,shape_name):\n",
    "        self.shape_name=shape_name\n",
    "    @abstractmethod\n",
    "    def draw(self):\n",
    "        pass\n",
    "class circle(shape):\n",
    "    def __init__(self):\n",
    "        super().__init__(\"circle\")\n",
    "    def draw(self):\n",
    "        print(\"drawing a circle\")\n",
    "c=circle()\n",
    "c.draw()"
   ]
  },
  {
   "cell_type": "code",
   "execution_count": 40,
   "metadata": {},
   "outputs": [
    {
     "name": "stdout",
     "output_type": "stream",
     "text": [
      "Name is: s\n",
      "Salary is: 100000\n",
      "Name is: s\n",
      "Salary is: 100000\n",
      "subject is: python\n",
      "Name is: s\n",
      "Salary is: 100000\n",
      "Dept is: cse\n"
     ]
    }
   ],
   "source": [
    "class staff:\n",
    "    def __init__(self,name,salary):\n",
    "        self.name=name\n",
    "        self.salary=salary\n",
    "    def display(self):\n",
    "        print(\"Name is:\",self.name)\n",
    "        print(\"Salary is:\",self.salary)        \n",
    "class teaching(staff):\n",
    "    def __init__(self,name,salary,subject):\n",
    "        super().__init__(name,salary)\n",
    "        self.subject=subject\n",
    "    def display(self):\n",
    "        super().display()\n",
    "        print(\"subject is:\",self.subject)\n",
    "class nm_teaching(staff):\n",
    "    def __init__(self,name,salary,dept):\n",
    "        super().__init__(name,salary)\n",
    "        self.dept=dept\n",
    "    def display(self):\n",
    "        super().display()\n",
    "        print(\"Dept is:\",self.dept)\n",
    "s=staff(\"s\",100000)\n",
    "t=teaching(\"s\",100000,\"python\")\n",
    "nm=nm_teaching(\"s\",100000,\"cse\")\n",
    "s.display()\n",
    "t.display()\n",
    "nm.display()"
   ]
  },
  {
   "cell_type": "code",
   "execution_count": 81,
   "metadata": {},
   "outputs": [
    {
     "name": "stdout",
     "output_type": "stream",
     "text": [
      "added successfully\n",
      "Name: abc\n",
      "email: abc@gmail.com\n"
     ]
    }
   ],
   "source": [
    "#create a class called student having name,email as its data members and put data as bounds methods the init should assign\n",
    "# the values passed as parameters to the variables and the put data function should display the data of the student.Create\n",
    "# another class for phd guide having name,email and students as its data members.Here the students variable is the list of\n",
    "# students under the guide.The phdguide should have 4 bound method init,put data,add data and remove data.The init data\n",
    "#to initialize data.The put data should display data member including list of stundet.\n",
    "# add method should add a student to the list of the students to the guide \n",
    "#and the remove student should remove data from students list.\n",
    "\n",
    "class student:\n",
    "    def __init__(self,name,email):\n",
    "        self.name=name\n",
    "        self.email=email\n",
    "    def putdata(self):\n",
    "        print(\"Name:\",self.name)        \n",
    "        print(\"Email:\",self.email)\n",
    "class phdguide(student):\n",
    "    def __init__(self,name,email):\n",
    "        super().__init__(name,email)\n",
    "        self.students=[]\n",
    "    def adddata(self,name,email):\n",
    "        self.students.append(student(name,email))\n",
    "        print(\"added successfully\")\n",
    "    def removedata(self,email):\n",
    "        self.students.remove(0)\n",
    "        print(\"remove successfully\")\n",
    "    def putdata(self):\n",
    "        for i in self.students:\n",
    "            print(\"Name:\",self.name)\n",
    "            print(\"email:\",self.email)\n",
    "a=phdguide(\"abc\",\"abc@gmail.com\")\n",
    "a.adddata(\"abc\",\"abc@gmail.com\")\n",
    "a.putdata()\n",
    "# a.removedata(\"hf@hvj\")"
   ]
  },
  {
   "cell_type": "code",
   "execution_count": null,
   "metadata": {},
   "outputs": [],
   "source": [
    "#create a class student with the following member attributes rollno,name,age & total marks.Create suitable methods for\n",
    "#reading and printing member variables.Write a program to overload == operator to print the details of students having same\n",
    "# marks.\n",
    "class student:\n",
    "    def __init__(self,rollno,name,age,totlamarks):\n",
    "        self.rollno=rollno\n",
    "        self.name=name\n",
    "        self.age=age\n",
    "        self.totalmarks=totalmarks\n",
    "    def diplay(self):\n",
    "        print(\"Roll No:\",self.rollno)\n",
    "        print(\"Name:\",self.name)\n",
    "        print(\"age:\",self.age)        \n",
    "        print(\"Total marks:\",self.totalmarks) \n",
    "    def adddata(self):\n",
    "        self.student.append()"
   ]
  }
 ],
 "metadata": {
  "kernelspec": {
   "display_name": "Python 3",
   "language": "python",
   "name": "python3"
  },
  "language_info": {
   "codemirror_mode": {
    "name": "ipython",
    "version": 3
   },
   "file_extension": ".py",
   "mimetype": "text/x-python",
   "name": "python",
   "nbconvert_exporter": "python",
   "pygments_lexer": "ipython3",
   "version": "3.8.5"
  }
 },
 "nbformat": 4,
 "nbformat_minor": 4
}
