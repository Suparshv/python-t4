{
 "cells": [
  {
   "cell_type": "markdown",
   "metadata": {},
   "source": [
    "# CH-9 Advance OOP\n",
    "-Polymorphism\n",
    "-Inheritance\n",
    "-Abstract Class"
   ]
  },
  {
   "cell_type": "markdown",
   "metadata": {},
   "source": [
    "# Polymorphism\n",
    "-It means many forms\n",
    "1.Method overloading\n",
    "2.Method overiding\n",
    "3.Operation overloading"
   ]
  },
  {
   "cell_type": "markdown",
   "metadata": {},
   "source": [
    "# Method overloading vs Method overiding\n",
    "   ->Compile time polymorphism             ->Run time polymorphism\n",
    "   ->it occurs in same class               ->it occurs in two classes via inheritance.\n",
    "   ->method must have same                 ->methods must have same name \n",
    "     name and different parameters.          and same parameters.\n",
    "   ->pyhton does not support               ->python supports method overriding.\n",
    "     method overloading\n"
   ]
  },
  {
   "cell_type": "code",
   "execution_count": 3,
   "metadata": {},
   "outputs": [
    {
     "name": "stdout",
     "output_type": "stream",
     "text": [
      "60\n",
      "30\n"
     ]
    }
   ],
   "source": [
    "#mehtod overloading not supportted i npython\n",
    "class A:\n",
    "    def add(self,a,b):\n",
    "        print(a+b)\n",
    "    def add(self,a,b,c=0):\n",
    "        print(a+b+c)\n",
    "obj=A()\n",
    "obj.add(10,20,30)\n",
    "obj.add(10,20)#add() missing 1 required positional argument: 'c'\n",
    "#obj.add(10,20,30)"
   ]
  },
  {
   "cell_type": "code",
   "execution_count": 3,
   "metadata": {},
   "outputs": [
    {
     "name": "stdout",
     "output_type": "stream",
     "text": [
      "first function of class B\n",
      "second function of class A\n",
      "display function of class B\n",
      "first function of class A\n",
      "second function of class A\n"
     ]
    },
    {
     "ename": "AttributeError",
     "evalue": "'A' object has no attribute 'display'",
     "output_type": "error",
     "traceback": [
      "\u001b[1;31m---------------------------------------------------------------------------\u001b[0m",
      "\u001b[1;31mAttributeError\u001b[0m                            Traceback (most recent call last)",
      "\u001b[1;32m<ipython-input-3-c5cf3319a7cf>\u001b[0m in \u001b[0;36m<module>\u001b[1;34m\u001b[0m\n\u001b[0;32m     18\u001b[0m \u001b[0mobj1\u001b[0m\u001b[1;33m.\u001b[0m\u001b[0mfirst\u001b[0m\u001b[1;33m(\u001b[0m\u001b[1;33m)\u001b[0m\u001b[1;33m\u001b[0m\u001b[1;33m\u001b[0m\u001b[0m\n\u001b[0;32m     19\u001b[0m \u001b[0mobj1\u001b[0m\u001b[1;33m.\u001b[0m\u001b[0msecond\u001b[0m\u001b[1;33m(\u001b[0m\u001b[1;33m)\u001b[0m\u001b[1;33m\u001b[0m\u001b[1;33m\u001b[0m\u001b[0m\n\u001b[1;32m---> 20\u001b[1;33m \u001b[0mobj1\u001b[0m\u001b[1;33m.\u001b[0m\u001b[0mdisplay\u001b[0m\u001b[1;33m(\u001b[0m\u001b[1;33m)\u001b[0m\u001b[1;33m\u001b[0m\u001b[1;33m\u001b[0m\u001b[0m\n\u001b[0m",
      "\u001b[1;31mAttributeError\u001b[0m: 'A' object has no attribute 'display'"
     ]
    }
   ],
   "source": [
    "#method overriding\n",
    "#child can use parent methods but parent cannot use child's methods\n",
    "class A:#parent class or base class\n",
    "    def first(self):\n",
    "        print(\"first function of class A\")\n",
    "    def second(self):\n",
    "        print(\"second function of class A\")\n",
    "class B(A):#child class or derived class\n",
    "    def first(self):#overridden method\n",
    "        print(\"first function of class B\")\n",
    "    def display(self):\n",
    "        print(\"display function of class B\")\n",
    "obj=B()\n",
    "obj.first()\n",
    "obj.second()\n",
    "obj.display()\n",
    "\n",
    "obj1=A()\n",
    "obj1.first()\n",
    "obj1.second()\n",
    "obj1.display()#'A' object has no attribute 'display'"
   ]
  },
  {
   "cell_type": "code",
   "execution_count": 11,
   "metadata": {},
   "outputs": [
    {
     "name": "stdout",
     "output_type": "stream",
     "text": [
      "50\n"
     ]
    }
   ],
   "source": [
    "#constructor overriding\n",
    "class parent:\n",
    "    def __init__(self):\n",
    "        self.attr1=50\n",
    "        self.attr2=60\n",
    "class child(parent):\n",
    "    def __init__(self):\n",
    "        super().__init__()# or parent.__init__(self)\n",
    "        self.attr3=70\n",
    "obj=child()\n",
    "print(obj.attr1)#'child' object has no attribute 'attr1' if super is not written then error occurs"
   ]
  },
  {
   "cell_type": "code",
   "execution_count": 14,
   "metadata": {},
   "outputs": [
    {
     "name": "stdout",
     "output_type": "stream",
     "text": [
      "Addition: 30\n",
      "Multiplication: 200\n",
      "Addition: 30\n"
     ]
    }
   ],
   "source": [
    "class  Add:\n",
    "    def result(self,a,b):\n",
    "        print(\"Addition:\",a+b)\n",
    "class multi(Add):\n",
    "    def result(self,a,b):\n",
    "        super().result(a,b)\n",
    "        print(\"Multiplication:\",a*b)\n",
    "m=multi()\n",
    "m.result(10,20)\n",
    "m=Add()\n",
    "m.result(10,20)"
   ]
  },
  {
   "cell_type": "code",
   "execution_count": 19,
   "metadata": {},
   "outputs": [
    {
     "name": "stdout",
     "output_type": "stream",
     "text": [
      "5\n",
      "Hi Hello\n"
     ]
    }
   ],
   "source": [
    "#operator overloading\n",
    "class A:\n",
    "    def __init__(self,a):\n",
    "        self.a=a\n",
    "    def __add__(self,other):\n",
    "        return self.a+other.a\n",
    "obj1=A(2)\n",
    "obj2=A(3)\n",
    "obj3=A(\"Hi\")\n",
    "obj4=A(\" Hello\")\n",
    "print(obj1+obj2)\n",
    "print(obj3+obj4)#operator overloading\n",
    "\n",
    "# print(A.__add__(obj1,obj2))\n",
    "# print(A.__add__(obj3,obj4))\n",
    "\n",
    "# print(obj1.__add__(obj2))\n",
    "# print(obj3.__add__(obj4))"
   ]
  },
  {
   "cell_type": "code",
   "execution_count": 23,
   "metadata": {},
   "outputs": [
    {
     "name": "stdout",
     "output_type": "stream",
     "text": [
      "8\n",
      "2\n",
      "15\n",
      "1.6666666666666667\n",
      "1\n",
      "2\n",
      "125\n"
     ]
    }
   ],
   "source": [
    "#mathematical operators\n",
    "class A:\n",
    "    def __init__(self,a):\n",
    "        self.a=a\n",
    "    def __add__(self,other):\n",
    "        return self.a+other.a\n",
    "    def __sub__(self,other):\n",
    "        return self.a-other.a\n",
    "    def __mul__(self,other):\n",
    "        return self.a*other.a\n",
    "    def __truediv__(self,other):\n",
    "        return self.a/other.a\n",
    "    def __floordiv__(self,other):\n",
    "        return self.a//other.a\n",
    "    def __mod__(self,other):\n",
    "        return self.a%other.a\n",
    "    def __pow__(self,other):\n",
    "        return self.a**other.a\n",
    "obj1=A(5)\n",
    "obj2=A(3)\n",
    "print(obj1+obj2)\n",
    "print(obj1-obj2)\n",
    "print(obj1*obj2)\n",
    "print(obj1/obj2)\n",
    "print(obj1//obj2)\n",
    "print(obj1%obj2)\n",
    "print(obj1**obj2)"
   ]
  },
  {
   "cell_type": "code",
   "execution_count": 26,
   "metadata": {},
   "outputs": [
    {
     "name": "stdout",
     "output_type": "stream",
     "text": [
      "obj2 is greater\n",
      "obj1 is lesser\n",
      "obj2 is greater or equal\n",
      "obj1 is lesser or equal\n",
      "obj1 and obj2 are not equal\n",
      "obj1 and obj2 are not equal\n"
     ]
    }
   ],
   "source": [
    "#comparison operator(>,<,<=,>=,==,!=)\n",
    "class A:\n",
    "    def __init__(self,a):\n",
    "        self.a=a\n",
    "    def __gt__(self,other):\n",
    "        if self.a>other.a:\n",
    "            return True\n",
    "        else:\n",
    "            return False\n",
    "    def __lt__(self,other):\n",
    "        if self.a<other.a:\n",
    "            return True\n",
    "        else:\n",
    "            return False\n",
    "    def __ge__(self,other):\n",
    "        if self.a>=other.a:\n",
    "            return True\n",
    "        else:\n",
    "            return False\n",
    "    def __le__(self,other):\n",
    "        if self.a<=other.a:\n",
    "            return True\n",
    "        else:\n",
    "            return False\n",
    "    def __eq__(self,other):\n",
    "        if self.a==other.a:\n",
    "            return True\n",
    "        else:\n",
    "            return False\n",
    "    def __ne__(self,other):\n",
    "        if self.a!=other.a:\n",
    "            return True\n",
    "        else:\n",
    "            return False\n",
    "obj1=A(15)\n",
    "obj2=A(30)\n",
    "if obj1>obj2:\n",
    "    print(\"obj1 is greater\")\n",
    "else:print(\"obj2 is greater\")\n",
    "\n",
    "if obj1<obj2:\n",
    "    print(\"obj1 is lesser\")\n",
    "else:print(\"obj2 is lesser\")\n",
    "\n",
    "if obj1>=obj2:\n",
    "    print(\"obj1 is greater or equal\")\n",
    "else:print(\"obj2 is greater or equal\")\n",
    "    \n",
    "if obj1<=obj2:\n",
    "    print(\"obj1 is lesser or equal\")\n",
    "else:print(\"obj2 is lesser or equal\")\n",
    "\n",
    "if obj1==obj2:\n",
    "    print(\"obj1 and obj2 are equal\")\n",
    "else:print(\"obj1 and obj2 are not equal\")\n",
    "    \n",
    "if obj1!=obj2:\n",
    "    print(\"obj1 and obj2 are not equal\")\n",
    "else:print(\"obj1 and obj2 are equal\")"
   ]
  },
  {
   "cell_type": "markdown",
   "metadata": {},
   "source": [
    "# Inheritance\n",
    "--> abitlity to inherit features or attributes from  already written class into newer classes we make.\n",
    "-->it promotes code reusability\n",
    "-->it make codebase modular\n",
    "\n",
    "5 types of inheritance:-\n",
    "1.Single inheritance\n",
    "2.Multiple inheritance\n",
    "3.Multilevel inheritance\n",
    "4.Hierarchical inheritance\n",
    "5.hybrid inheritance"
   ]
  },
  {
   "cell_type": "code",
   "execution_count": 29,
   "metadata": {},
   "outputs": [
    {
     "name": "stdout",
     "output_type": "stream",
     "text": [
      "Hello parent\n",
      "Hello child\n"
     ]
    }
   ],
   "source": [
    "# 1)Single Inheritance\n",
    "class Parent:\n",
    "    def func1(self):\n",
    "        print(\"Hello parent\")\n",
    "class Child(Parent):\n",
    "    def func2(self):\n",
    "        print(\"Hello child\")\n",
    "test=Child()\n",
    "test.func1()\n",
    "test.func2()"
   ]
  },
  {
   "cell_type": "code",
   "execution_count": 33,
   "metadata": {},
   "outputs": [
    {
     "name": "stdout",
     "output_type": "stream",
     "text": [
      "Hello parent1\n",
      "Hello parent2\n",
      "Hello child\n",
      "(<class '__main__.Child'>, <class '__main__.Parent1'>, <class '__main__.Parent2'>, <class '__main__.Parent3'>, <class 'object'>)\n",
      "[<class '__main__.Child'>, <class '__main__.Parent1'>, <class '__main__.Parent2'>, <class '__main__.Parent3'>, <class 'object'>]\n"
     ]
    }
   ],
   "source": [
    "#2) Multiple inheritance\n",
    "class Parent1:\n",
    "    def func1(self):\n",
    "        print(\"Hello parent1\")\n",
    "class Parent2:\n",
    "    def func2(self):\n",
    "        print(\"Hello parent2\")\n",
    "class Parent3:\n",
    "    def func2(self):\n",
    "        print(\"Hello parent3\")\n",
    "class Child(Parent1,Parent2,Parent3):\n",
    "    def func3(self):\n",
    "        print(\"Hello child\")\n",
    "test=Child()\n",
    "test.func1()\n",
    "test.func2()\n",
    "test.func3()\n",
    "print(Child.__mro__)#mro-method resolution order\n",
    "print(Child.mro())"
   ]
  },
  {
   "cell_type": "code",
   "execution_count": 40,
   "metadata": {},
   "outputs": [
    {
     "name": "stdout",
     "output_type": "stream",
     "text": [
      "hello grandparent\n",
      "hello parent\n",
      "hello child\n",
      "[<class '__main__.child'>, <class '__main__.parent'>, <class '__main__.grandparent'>, <class 'object'>]\n"
     ]
    }
   ],
   "source": [
    "#3)Multilevel inheritance\n",
    "class grandparent:\n",
    "    def func1(self):\n",
    "        print(\"hello grandparent\")\n",
    "class parent(grandparent):\n",
    "     def func2(self):\n",
    "        print(\"hello parent\")\n",
    "class child(parent):\n",
    "     def func3(self):\n",
    "        print(\"hello child\")\n",
    "test=child()\n",
    "test.func1()\n",
    "test.func2()\n",
    "test.func3()\n",
    "\n",
    "# test1=parent()\n",
    "# test1.func3()#'parent' object has no attribute 'func3'\n",
    "\n",
    "# test2=grandparent()\n",
    "# test2.func2()#'parent' object has no attribute 'func2'\n",
    "# test2.func3()#'parent' object has no attribute 'func3'\n",
    "\n",
    "print(child.mro())"
   ]
  },
  {
   "cell_type": "code",
   "execution_count": 45,
   "metadata": {},
   "outputs": [
    {
     "name": "stdout",
     "output_type": "stream",
     "text": [
      "hello parent\n",
      "hello child1\n",
      "hello parent\n",
      "hello child2\n",
      "[<class '__main__.child1'>, <class '__main__.parent'>, <class 'object'>]\n",
      "[<class '__main__.child2'>, <class '__main__.parent'>, <class 'object'>]\n"
     ]
    }
   ],
   "source": [
    "#4)Hierarchical Inheritance\n",
    "class parent:\n",
    "    def func1(self):\n",
    "        print(\"hello parent\")\n",
    "class child1(parent):\n",
    "    def func2(self):\n",
    "        print(\"hello child1\")\n",
    "class child2(parent):\n",
    "    def func3(self):\n",
    "        print(\"hello child2\")\n",
    "test1=child1()\n",
    "test1.func1()\n",
    "test1.func2()\n",
    "\n",
    "test2=child2()\n",
    "test2.func1()\n",
    "test2.func3()\n",
    "\n",
    "#test1.func3()#'child1' object has no attribute 'func3'\n",
    "#test2.func2()#'child2' object has no attribute 'func2'\n",
    "\n",
    "print(child1.mro())\n",
    "print(child2.mro())"
   ]
  },
  {
   "cell_type": "code",
   "execution_count": 50,
   "metadata": {},
   "outputs": [
    {
     "name": "stdout",
     "output_type": "stream",
     "text": [
      "Hello parent1\n",
      "Hello child1\n",
      "Hello parent1\n",
      "Hello parent2\n",
      "Hello child1\n",
      "Hello child2\n"
     ]
    }
   ],
   "source": [
    "#5) Hybrid Inheritance(multi+multilevel)\n",
    "class parent1:\n",
    "    def func1(self):\n",
    "        print(\"Hello parent1\")\n",
    "class parent2:\n",
    "    def func2(self):\n",
    "        print(\"Hello parent2\")\n",
    "class child1(parent1):\n",
    "    def func3(self):\n",
    "        print(\"Hello child1\")\n",
    "class child2(child1,parent2):\n",
    "    def func4(self):\n",
    "        print(\"Hello child2\")\n",
    "        \n",
    "test1=child1()\n",
    "test2=child2()\n",
    "test1.func1()\n",
    "test1.func3()\n",
    "\n",
    "test2.func1()\n",
    "test2.func2()\n",
    "test2.func3()\n",
    "test2.func4()"
   ]
  }
 ],
 "metadata": {
  "kernelspec": {
   "display_name": "Python 3",
   "language": "python",
   "name": "python3"
  },
  "language_info": {
   "codemirror_mode": {
    "name": "ipython",
    "version": 3
   },
   "file_extension": ".py",
   "mimetype": "text/x-python",
   "name": "python",
   "nbconvert_exporter": "python",
   "pygments_lexer": "ipython3",
   "version": "3.8.5"
  }
 },
 "nbformat": 4,
 "nbformat_minor": 4
}
