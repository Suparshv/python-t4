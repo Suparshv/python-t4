{
 "cells": [
  {
   "cell_type": "code",
   "execution_count": 10,
   "metadata": {},
   "outputs": [
    {
     "name": "stdout",
     "output_type": "stream",
     "text": [
      "[[[2 3 8]\n",
      "  [3 7 9]]\n",
      "\n",
      " [[2 6 7]\n",
      "  [4 6 9]]]\n",
      "\n",
      "[[[3 2 2]\n",
      "  [7 6 3]]\n",
      "\n",
      " [[6 7 8]\n",
      "  [9 9 4]]]\n",
      "\n",
      "[[[3 2 3]\n",
      "  [7 9 8]]\n",
      "\n",
      " [[6 6 2]\n",
      "  [9 7 4]]]\n",
      "\n",
      "[[[2 3 8]\n",
      "  [3 7 9]]\n",
      "\n",
      " [[2 6 7]\n",
      "  [4 6 9]]]\n"
     ]
    }
   ],
   "source": [
    "import numpy as np\n",
    "arr=np.array([[[3,2,8],[7,9,3]],[[6,7,2],[9,6,4]]])\n",
    "print(np.sort(arr))#same as axis 2\n",
    "print()\n",
    "print(np.sort(arr,axis=0))\n",
    "print()\n",
    "print(np.sort(arr,axis=1))\n",
    "print()\n",
    "print(np.sort(arr,axis=2))"
   ]
  },
  {
   "cell_type": "code",
   "execution_count": 13,
   "metadata": {},
   "outputs": [
    {
     "name": "stdout",
     "output_type": "stream",
     "text": [
      "[3 4 5 6 7]\n",
      "[ 2  4  6  8 10]\n",
      "[0.5 1.  1.5 2.  2.5]\n"
     ]
    }
   ],
   "source": [
    "arr=np.array([1,2,3,4,5])\n",
    "print(arr+2)\n",
    "print(arr*2)\n",
    "print(arr/2)"
   ]
  }
 ],
 "metadata": {
  "kernelspec": {
   "display_name": "Python 3",
   "language": "python",
   "name": "python3"
  },
  "language_info": {
   "codemirror_mode": {
    "name": "ipython",
    "version": 3
   },
   "file_extension": ".py",
   "mimetype": "text/x-python",
   "name": "python",
   "nbconvert_exporter": "python",
   "pygments_lexer": "ipython3",
   "version": "3.8.5"
  }
 },
 "nbformat": 4,
 "nbformat_minor": 4
}
